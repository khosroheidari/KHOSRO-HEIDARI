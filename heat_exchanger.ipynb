{
  "nbformat": 4,
  "nbformat_minor": 0,
  "metadata": {
    "colab": {
      "provenance": [],
      "authorship_tag": "ABX9TyMk7ZSI18h5RuEiWGWXil7M",
      "include_colab_link": true
    },
    "kernelspec": {
      "name": "python3",
      "display_name": "Python 3"
    },
    "language_info": {
      "name": "python"
    }
  },
  "cells": [
    {
      "cell_type": "markdown",
      "metadata": {
        "id": "view-in-github",
        "colab_type": "text"
      },
      "source": [
        "<a href=\"https://colab.research.google.com/github/khosroheidari/KHOSRO-HEIDARI/blob/main/heat_exchanger.ipynb\" target=\"_parent\"><img src=\"https://colab.research.google.com/assets/colab-badge.svg\" alt=\"Open In Colab\"/></a>"
      ]
    },
    {
      "cell_type": "markdown",
      "source": [
        "import math\n",
        "\n",
        "# Given parameters\n",
        "T_cold_in = 50 # Cold water inlet temperature in degrees Celsius\n",
        "T_cold_out = 120 # Cold water outlet temperature in degrees Celsius\n",
        "T_hot_in = 170 # Hot fluid inlet temperature in degrees Celsius\n",
        "\n",
        "# Additional parameters\n",
        "m_cold = 1 # Cold water flow rate in kg/s\n",
        "m_hot = 0.5 # Hot fluid flow rate in kg/s\n",
        "D_tube = 0.019 # Tube inner diameter in meters\n",
        "L_tube = 3 # Tube length in meters\n",
        "n_passes = 1 # Number of tube passes\n",
        "n_rows = 2 # Number of tube rows\n",
        "\n",
        "# Calculation of heat transfer area\n",
        "Cp_cold = 4187 # Specific heat capacity of water in J/kg-K\n",
        "Cp_hot = 1948 # Specific heat capacity of hot fluid in J/kg-K\n",
        "Q_dot = m_cold * Cp_cold * (T_cold_out - T_cold_in) # Heat transfer rate in watts\n",
        "Delta_T1 = T_hot_in - T_cold_out # Temperature difference in the hot fluid side\n",
        "Delta_T2 = T_hot_in - T_cold_in # Temperature difference in the cold water side\n",
        "LMTD = (Delta_T1 - Delta_T2) / math.log(Delta_T1 / Delta_T2) # LMTD\n",
        "A = Q_dot / (LMTD * n_passes * n_rows * Cp_hot * m_hot) # Heat transfer area in square meters\n",
        "\n",
        "# Calculation of exit temperature of hot fluid\n",
        "U = 500 # Overall heat transfer coefficient in W/m2-K\n",
        "t = 0.003 # Tube thickness in meters\n",
        "D_shell = D_tube + 2 * t # Shell inner diameter in meters\n",
        "L_shell = L_tube * n_passes # Shell length in meters\n",
        "A_shell = math.pi * D_shell * L_shell # Shell surface area in square meters\n",
        "V_shell = A_shell * 0.25 # Shell volume in cubic meters (assuming 25% of the shell volume is occupied by the tubes)\n",
        "m_shell = m_hot * Cp_hot * V_shell / (Cp_cold * A * (T_hot_in - T_cold_in)) # Shell-side flow rate in kg/s\n",
        "Re_shell = 4 * m_shell / (math.pi * D_shell * 0.025 * 0.025) # Reynolds number for the shell-side flow (assuming water as the shell-side fluid)\n",
        "Pr_shell = 4.36 # Prandtl number for water at 70 degrees Celsius (average temperature in the shell)\n",
        "k_shell = 0.606 # Thermal conductivity of water at 70 degrees Celsius (average temperature in the shell)\n",
        "h_shell = 0.023 * (Re_shell ** 0.8) * (Pr_shell ** 0.33) * (k_shell / D_shell) # Shell-side heat transfer coefficient in W/m2-K\n",
        "Rd = 0.0002 # Fouling resistance on the shell-side in m2-K/W\n",
        "Rt = 0.0001 # Fouling resistance on the tube-side in m2-K/W\n",
        "R = 1 / (U * A) + Rd + Rt # Overall thermal resistance\n",
        "T_hot_out = T_hot_in - Q_dot / (m_hot * Cp_hot) / (1 / (h_shell * A_shell) + R) # Hot fluid exit temperature in degrees Celsius\n",
        "\n",
        "print(\"The exit temperature of the hot fluid is {:.2f} degrees Celsius.\".format(T_hot_out))"
      ],
      "metadata": {
        "id": "Q2bLtovO7RWg"
      }
    },
    {
      "cell_type": "code",
      "source": [
        "import math\n",
        "\n",
        "# Given parameters\n",
        "T_cold_in = 50 # Cold water inlet temperature in degrees Celsius\n",
        "T_cold_out = 120 # Cold water outlet temperature in degrees Celsius\n",
        "T_hot_in = 330 # Hot fluid inlet temperature in degrees Celsius\n",
        "\n",
        "# Additional parameters\n",
        "m_cold = 1 # Cold water flow rate in kg/s\n",
        "m_hot = 0.5 # Hot fluid flow rate in kg/s\n",
        "D_tube = 0.019 # Tube inner diameter in meters\n",
        "L_tube = 3 # Tube length in meters\n",
        "n_passes = 1 # Number of tube passes\n",
        "n_rows = 2 # Number of tube rows\n",
        "\n",
        "# Calculation of heat transfer area\n",
        "Cp_cold = 4187 # Specific heat capacity of water in J/kg-K\n",
        "Cp_hot = 1948 # Specific heat capacity of hot fluid in J/kg-K\n",
        "Q_dot = m_cold * Cp_cold * (T_cold_out - T_cold_in) # Heat transfer rate in watts\n",
        "Delta_T1 = T_hot_in - T_cold_out # Temperature difference in the hot fluid side\n",
        "Delta_T2 = T_hot_in - T_cold_in # Temperature difference in the cold water side\n",
        "LMTD = (Delta_T1 - Delta_T2) / math.log(Delta_T1 / Delta_T2) # LMTD\n",
        "A = Q_dot / (LMTD * n_passes * n_rows * Cp_hot * m_hot) # Heat transfer area in square meters\n",
        "\n",
        "# Calculation of exit temperature of hot fluid\n",
        "U = 500 # Overall heat transfer coefficient in W/m2-K\n",
        "t = 0.003 # Tube thickness in meters\n",
        "D_shell = D_tube + 2 * t # Shell inner diameter in meters\n",
        "L_shell = L_tube * n_passes # Shell length in meters\n",
        "A_shell = math.pi * D_shell * L_shell # Shell surface area in square meters\n",
        "V_shell = A_shell * 0.25 # Shell volume in cubic meters (assuming 25% of the shell volume is occupied by the tubes)\n",
        "m_shell = m_hot * Cp_hot * V_shell / (Cp_cold * A * (T_hot_in - T_cold_in)) # Shell-side flow rate in kg/s\n",
        "Re_shell = 4 * m_shell / (math.pi * D_shell * 0.025 * 0.025) # Reynolds number for the shell-side flow (assuming water as the shell-side fluid)\n",
        "Pr_shell = 4.36 # Prandtl number for water at 70 degrees Celsius (average temperature in the shell)\n",
        "k_shell = 0.606 # Thermal conductivity of water at 70 degrees Celsius (average temperature in the shell)\n",
        "h_shell = 0.023 * (Re_shell ** 0.8) * (Pr_shell ** 0.33) * (k_shell / D_shell) # Shell-side heat transfer coefficient in W/m2-K\n",
        "Rd = 0.0002 # Fouling resistance on the shell-side in m2-K/W\n",
        "Rt = 0.0001 # Fouling resistance on the tube-side in m2-K/W\n",
        "R = 1 / (U * A) + Rd + Rt # Overall thermal resistance\n",
        "T_hot_out = T_hot_in - Q_dot / (m_hot * Cp_hot) / (1 / (h_shell * A_shell) + R) # Hot fluid exit temperature in degrees Celsius\n",
        "\n",
        "print(\"The exit temperature of the hot fluid is {:.2f} degrees Celsius.\".format(T_hot_out))"
      ],
      "metadata": {
        "colab": {
          "base_uri": "https://localhost:8080/"
        },
        "id": "DHm-6sPC7fQv",
        "outputId": "31e2c628-32fd-442b-fc96-c6659a353ffb"
      },
      "execution_count": 29,
      "outputs": [
        {
          "output_type": "stream",
          "name": "stdout",
          "text": [
            "The exit temperature of the hot fluid is 45.49 degrees Celsius.\n"
          ]
        }
      ]
    },
    {
      "cell_type": "code",
      "source": [],
      "metadata": {
        "id": "aW4EPGWL7dk-"
      },
      "execution_count": null,
      "outputs": []
    }
  ]
}