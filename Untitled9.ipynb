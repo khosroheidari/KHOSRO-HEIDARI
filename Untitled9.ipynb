{
  "nbformat": 4,
  "nbformat_minor": 0,
  "metadata": {
    "colab": {
      "name": "Untitled9.ipynb",
      "provenance": [],
      "collapsed_sections": [],
      "authorship_tag": "ABX9TyPyyCH7UQS1vd3D7cccilyd",
      "include_colab_link": true
    },
    "kernelspec": {
      "name": "python3",
      "display_name": "Python 3"
    }
  },
  "cells": [
    {
      "cell_type": "markdown",
      "metadata": {
        "id": "view-in-github",
        "colab_type": "text"
      },
      "source": [
        "<a href=\"https://colab.research.google.com/github/khosroheidari/KHOSRO-HEIDARI/blob/main/Untitled9.ipynb\" target=\"_parent\"><img src=\"https://colab.research.google.com/assets/colab-badge.svg\" alt=\"Open In Colab\"/></a>"
      ]
    },
    {
      "cell_type": "code",
      "metadata": {
        "colab": {
          "base_uri": "https://localhost:8080/",
          "height": 511
        },
        "id": "fL35MYXAh6sK",
        "outputId": "37879863-8fc2-4edc-813e-d9773a1307f6"
      },
      "source": [
        "\n",
        "\n",
        "\n",
        "from findatapy.market import Market, MarketDataRequest, MarketDataGenerator\n",
        "from findatapy.util.fxconv import FXConv\n",
        "\n",
        "# for logging\n",
        "from findatapy.util.loggermanager import LoggerManager\n",
        "\n",
        "# for signal generation\n",
        "from finmarketpy.economics import TechIndicator, TechParams\n",
        "\n",
        "# for plotting\n",
        "from chartpy import Chart, Style"
      ],
      "execution_count": 37,
      "outputs": [
        {
          "output_type": "error",
          "ename": "ModuleNotFoundError",
          "evalue": "ignored",
          "traceback": [
            "\u001b[0;31m---------------------------------------------------------------------------\u001b[0m",
            "\u001b[0;31mModuleNotFoundError\u001b[0m                       Traceback (most recent call last)",
            "\u001b[0;32m<ipython-input-37-b408155f5201>\u001b[0m in \u001b[0;36m<module>\u001b[0;34m()\u001b[0m\n\u001b[1;32m      9\u001b[0m \u001b[0;34m\u001b[0m\u001b[0m\n\u001b[1;32m     10\u001b[0m \u001b[0;31m# for signal generation\u001b[0m\u001b[0;34m\u001b[0m\u001b[0;34m\u001b[0m\u001b[0;34m\u001b[0m\u001b[0m\n\u001b[0;32m---> 11\u001b[0;31m \u001b[0;32mfrom\u001b[0m \u001b[0mfinmarketpy\u001b[0m\u001b[0;34m.\u001b[0m\u001b[0meconomics\u001b[0m \u001b[0;32mimport\u001b[0m \u001b[0mTechIndicator\u001b[0m\u001b[0;34m,\u001b[0m \u001b[0mTechParams\u001b[0m\u001b[0;34m\u001b[0m\u001b[0;34m\u001b[0m\u001b[0m\n\u001b[0m\u001b[1;32m     12\u001b[0m \u001b[0;34m\u001b[0m\u001b[0m\n\u001b[1;32m     13\u001b[0m \u001b[0;31m# for plotting\u001b[0m\u001b[0;34m\u001b[0m\u001b[0;34m\u001b[0m\u001b[0;34m\u001b[0m\u001b[0m\n",
            "\u001b[0;32m/usr/local/lib/python3.6/dist-packages/finmarketpy/__init__.py\u001b[0m in \u001b[0;36m<module>\u001b[0;34m()\u001b[0m\n\u001b[0;32m----> 1\u001b[0;31m \u001b[0;32mfrom\u001b[0m \u001b[0mfinmarketpy\u001b[0m \u001b[0;32mimport\u001b[0m \u001b[0;34m(\u001b[0m\u001b[0mbacktest\u001b[0m\u001b[0;34m,\u001b[0m \u001b[0meconomics\u001b[0m\u001b[0;34m,\u001b[0m \u001b[0mutil\u001b[0m\u001b[0;34m)\u001b[0m\u001b[0;34m\u001b[0m\u001b[0;34m\u001b[0m\u001b[0m\n\u001b[0m",
            "\u001b[0;32m/usr/local/lib/python3.6/dist-packages/finmarketpy/backtest/__init__.py\u001b[0m in \u001b[0;36m<module>\u001b[0;34m()\u001b[0m\n\u001b[1;32m      1\u001b[0m \u001b[0m__author__\u001b[0m \u001b[0;34m=\u001b[0m \u001b[0;34m'saeedamen'\u001b[0m\u001b[0;34m\u001b[0m\u001b[0;34m\u001b[0m\u001b[0m\n\u001b[1;32m      2\u001b[0m \u001b[0;34m\u001b[0m\u001b[0m\n\u001b[0;32m----> 3\u001b[0;31m \u001b[0;32mfrom\u001b[0m \u001b[0mfinmarketpy\u001b[0m\u001b[0;34m.\u001b[0m\u001b[0mbacktest\u001b[0m\u001b[0;34m.\u001b[0m\u001b[0mbacktestengine\u001b[0m \u001b[0;32mimport\u001b[0m \u001b[0mBacktest\u001b[0m\u001b[0;34m\u001b[0m\u001b[0;34m\u001b[0m\u001b[0m\n\u001b[0m\u001b[1;32m      4\u001b[0m \u001b[0;32mfrom\u001b[0m \u001b[0mfinmarketpy\u001b[0m\u001b[0;34m.\u001b[0m\u001b[0mbacktest\u001b[0m\u001b[0;34m.\u001b[0m\u001b[0mbacktestrequest\u001b[0m \u001b[0;32mimport\u001b[0m \u001b[0mBacktestRequest\u001b[0m\u001b[0;34m\u001b[0m\u001b[0;34m\u001b[0m\u001b[0m\n\u001b[1;32m      5\u001b[0m \u001b[0;32mfrom\u001b[0m \u001b[0mfinmarketpy\u001b[0m\u001b[0;34m.\u001b[0m\u001b[0mbacktest\u001b[0m\u001b[0;34m.\u001b[0m\u001b[0mbacktestengine\u001b[0m \u001b[0;32mimport\u001b[0m \u001b[0mTradingModel\u001b[0m\u001b[0;34m\u001b[0m\u001b[0;34m\u001b[0m\u001b[0m\n",
            "\u001b[0;32m/usr/local/lib/python3.6/dist-packages/finmarketpy/backtest/backtestengine.py\u001b[0m in \u001b[0;36m<module>\u001b[0;34m()\u001b[0m\n\u001b[1;32m    933\u001b[0m \u001b[0;32mimport\u001b[0m \u001b[0mcopy\u001b[0m\u001b[0;34m\u001b[0m\u001b[0;34m\u001b[0m\u001b[0m\n\u001b[1;32m    934\u001b[0m \u001b[0;34m\u001b[0m\u001b[0m\n\u001b[0;32m--> 935\u001b[0;31m \u001b[0;32mfrom\u001b[0m \u001b[0mchartpy\u001b[0m \u001b[0;32mimport\u001b[0m \u001b[0mChart\u001b[0m\u001b[0;34m,\u001b[0m \u001b[0mStyle\u001b[0m\u001b[0;34m,\u001b[0m \u001b[0mChartConstants\u001b[0m\u001b[0;34m\u001b[0m\u001b[0;34m\u001b[0m\u001b[0m\n\u001b[0m\u001b[1;32m    936\u001b[0m \u001b[0;34m\u001b[0m\u001b[0m\n\u001b[1;32m    937\u001b[0m \u001b[0;32mfrom\u001b[0m \u001b[0mfinmarketpy\u001b[0m\u001b[0;34m.\u001b[0m\u001b[0meconomics\u001b[0m \u001b[0;32mimport\u001b[0m \u001b[0mTechParams\u001b[0m\u001b[0;34m\u001b[0m\u001b[0;34m\u001b[0m\u001b[0m\n",
            "\u001b[0;31mModuleNotFoundError\u001b[0m: No module named 'chartpy'",
            "",
            "\u001b[0;31m---------------------------------------------------------------------------\u001b[0;32m\nNOTE: If your import is failing due to a missing package, you can\nmanually install dependencies using either !pip or !apt.\n\nTo view examples of installing some common dependencies, click the\n\"Open Examples\" button below.\n\u001b[0;31m---------------------------------------------------------------------------\u001b[0m\n"
          ]
        }
      ]
    },
    {
      "cell_type": "code",
      "metadata": {
        "colab": {
          "base_uri": "https://localhost:8080/"
        },
        "id": "cGyUmBrfj730",
        "outputId": "025e635c-a407-46e4-e561-d27357e27927"
      },
      "source": [
        "pip install git+https://github.com/cuemacro/finmarketpy.git"
      ],
      "execution_count": 38,
      "outputs": [
        {
          "output_type": "stream",
          "text": [
            "Collecting git+https://github.com/cuemacro/finmarketpy.git\n",
            "  Cloning https://github.com/cuemacro/finmarketpy.git to /tmp/pip-req-build-jvic2i4o\n",
            "  Running command git clone -q https://github.com/cuemacro/finmarketpy.git /tmp/pip-req-build-jvic2i4o\n",
            "Requirement already satisfied (use --upgrade to upgrade): finmarketpy==0.11.7 from git+https://github.com/cuemacro/finmarketpy.git in /usr/local/lib/python3.6/dist-packages\n",
            "Requirement already satisfied: pandas in /usr/local/lib/python3.6/dist-packages (from finmarketpy==0.11.7) (1.1.5)\n",
            "Requirement already satisfied: twython in /usr/local/lib/python3.6/dist-packages (from finmarketpy==0.11.7) (3.8.2)\n",
            "Requirement already satisfied: pytz in /usr/local/lib/python3.6/dist-packages (from finmarketpy==0.11.7) (2018.9)\n",
            "Requirement already satisfied: requests in /usr/local/lib/python3.6/dist-packages (from finmarketpy==0.11.7) (2.23.0)\n",
            "Requirement already satisfied: numpy in /usr/local/lib/python3.6/dist-packages (from finmarketpy==0.11.7) (1.18.5)\n",
            "Requirement already satisfied: multiprocess in /usr/local/lib/python3.6/dist-packages (from finmarketpy==0.11.7) (0.70.11.1)\n",
            "Requirement already satisfied: seasonal in /usr/local/lib/python3.6/dist-packages (from finmarketpy==0.11.7) (0.3.1)\n",
            "Requirement already satisfied: sklearn in /usr/local/lib/python3.6/dist-packages (from finmarketpy==0.11.7) (0.0)\n",
            "Requirement already satisfied: matplotlib in /usr/local/lib/python3.6/dist-packages (from finmarketpy==0.11.7) (3.2.2)\n",
            "Requirement already satisfied: python-dateutil>=2.7.3 in /usr/local/lib/python3.6/dist-packages (from pandas->finmarketpy==0.11.7) (2.8.1)\n",
            "Requirement already satisfied: requests-oauthlib>=0.4.0 in /usr/local/lib/python3.6/dist-packages (from twython->finmarketpy==0.11.7) (1.3.0)\n",
            "Requirement already satisfied: idna<3,>=2.5 in /usr/local/lib/python3.6/dist-packages (from requests->finmarketpy==0.11.7) (2.10)\n",
            "Requirement already satisfied: certifi>=2017.4.17 in /usr/local/lib/python3.6/dist-packages (from requests->finmarketpy==0.11.7) (2020.12.5)\n",
            "Requirement already satisfied: chardet<4,>=3.0.2 in /usr/local/lib/python3.6/dist-packages (from requests->finmarketpy==0.11.7) (3.0.4)\n",
            "Requirement already satisfied: urllib3!=1.25.0,!=1.25.1,<1.26,>=1.21.1 in /usr/local/lib/python3.6/dist-packages (from requests->finmarketpy==0.11.7) (1.24.3)\n",
            "Requirement already satisfied: dill>=0.3.3 in /usr/local/lib/python3.6/dist-packages (from multiprocess->finmarketpy==0.11.7) (0.3.3)\n",
            "Requirement already satisfied: scipy in /usr/local/lib/python3.6/dist-packages (from seasonal->finmarketpy==0.11.7) (1.4.1)\n",
            "Requirement already satisfied: scikit-learn in /usr/local/lib/python3.6/dist-packages (from sklearn->finmarketpy==0.11.7) (0.22.2.post1)\n",
            "Requirement already satisfied: pyparsing!=2.0.4,!=2.1.2,!=2.1.6,>=2.0.1 in /usr/local/lib/python3.6/dist-packages (from matplotlib->finmarketpy==0.11.7) (2.4.7)\n",
            "Requirement already satisfied: cycler>=0.10 in /usr/local/lib/python3.6/dist-packages (from matplotlib->finmarketpy==0.11.7) (0.10.0)\n",
            "Requirement already satisfied: kiwisolver>=1.0.1 in /usr/local/lib/python3.6/dist-packages (from matplotlib->finmarketpy==0.11.7) (1.3.1)\n",
            "Requirement already satisfied: six>=1.5 in /usr/local/lib/python3.6/dist-packages (from python-dateutil>=2.7.3->pandas->finmarketpy==0.11.7) (1.15.0)\n",
            "Requirement already satisfied: oauthlib>=3.0.0 in /usr/local/lib/python3.6/dist-packages (from requests-oauthlib>=0.4.0->twython->finmarketpy==0.11.7) (3.1.0)\n",
            "Requirement already satisfied: joblib>=0.11 in /usr/local/lib/python3.6/dist-packages (from scikit-learn->sklearn->finmarketpy==0.11.7) (0.17.0)\n",
            "Building wheels for collected packages: finmarketpy\n",
            "  Building wheel for finmarketpy (setup.py) ... \u001b[?25l\u001b[?25hdone\n",
            "  Created wheel for finmarketpy: filename=finmarketpy-0.11.7-cp36-none-any.whl size=1679751 sha256=966695492e44ec2b35f878f28011ccfa1044d4575d5b4cf92cc030bc5693be51\n",
            "  Stored in directory: /tmp/pip-ephem-wheel-cache-i2x25mgb/wheels/8f/a9/69/a7d52b6f8e5ebc07bd0d3b8a770c41395ce839da12e3e15227\n",
            "Successfully built finmarketpy\n"
          ],
          "name": "stdout"
        }
      ]
    },
    {
      "cell_type": "code",
      "metadata": {
        "colab": {
          "base_uri": "https://localhost:8080/"
        },
        "id": "SPP6sYd_kG5A",
        "outputId": "dcbbe174-659e-4c33-9795-4dd22b5b992e"
      },
      "source": [
        "pip install git+https://github.com/cuemacro/chartpy.git"
      ],
      "execution_count": 39,
      "outputs": [
        {
          "output_type": "stream",
          "text": [
            "Collecting git+https://github.com/cuemacro/chartpy.git\n",
            "  Cloning https://github.com/cuemacro/chartpy.git to /tmp/pip-req-build-rt7s55l9\n",
            "  Running command git clone -q https://github.com/cuemacro/chartpy.git /tmp/pip-req-build-rt7s55l9\n",
            "Requirement already satisfied: pandas in /usr/local/lib/python3.6/dist-packages (from chartpy==0.1.8) (1.1.5)\n",
            "Requirement already satisfied: matplotlib in /usr/local/lib/python3.6/dist-packages (from chartpy==0.1.8) (3.2.2)\n",
            "Collecting pdfkit\n",
            "  Downloading https://files.pythonhosted.org/packages/57/da/48fdd627794cde49f4ee7854d219f3a65714069b722b8d0e3599cd066185/pdfkit-0.6.1-py3-none-any.whl\n",
            "Requirement already satisfied: twython in /usr/local/lib/python3.6/dist-packages (from chartpy==0.1.8) (3.8.2)\n",
            "Requirement already satisfied: pytz in /usr/local/lib/python3.6/dist-packages (from chartpy==0.1.8) (2018.9)\n",
            "Requirement already satisfied: requests in /usr/local/lib/python3.6/dist-packages (from chartpy==0.1.8) (2.23.0)\n",
            "Requirement already satisfied: numpy in /usr/local/lib/python3.6/dist-packages (from chartpy==0.1.8) (1.18.5)\n",
            "Requirement already satisfied: plotly>=4.5.1 in /usr/local/lib/python3.6/dist-packages (from chartpy==0.1.8) (4.9.0)\n",
            "Collecting chart-studio\n",
            "\u001b[?25l  Downloading https://files.pythonhosted.org/packages/ca/ce/330794a6b6ca4b9182c38fc69dd2a9cbff60fd49421cb8648ee5fee352dc/chart_studio-1.1.0-py3-none-any.whl (64kB)\n",
            "\u001b[K     |████████████████████████████████| 71kB 3.2MB/s \n",
            "\u001b[?25hRequirement already satisfied: cufflinks in /usr/local/lib/python3.6/dist-packages (from chartpy==0.1.8) (0.17.3)\n",
            "Requirement already satisfied: bokeh in /usr/local/lib/python3.6/dist-packages (from chartpy==0.1.8) (2.1.1)\n",
            "Collecting vispy\n",
            "\u001b[?25l  Downloading https://files.pythonhosted.org/packages/f4/f9/0a06f20ed1bdf4a2cd98e13126fc7fb9b00e0b4bd5d171d7dd47e99042d7/vispy-0.6.6-cp36-cp36m-manylinux2014_x86_64.whl (2.3MB)\n",
            "\u001b[K     |████████████████████████████████| 2.3MB 7.4MB/s \n",
            "\u001b[?25hRequirement already satisfied: python-dateutil>=2.7.3 in /usr/local/lib/python3.6/dist-packages (from pandas->chartpy==0.1.8) (2.8.1)\n",
            "Requirement already satisfied: pyparsing!=2.0.4,!=2.1.2,!=2.1.6,>=2.0.1 in /usr/local/lib/python3.6/dist-packages (from matplotlib->chartpy==0.1.8) (2.4.7)\n",
            "Requirement already satisfied: cycler>=0.10 in /usr/local/lib/python3.6/dist-packages (from matplotlib->chartpy==0.1.8) (0.10.0)\n",
            "Requirement already satisfied: kiwisolver>=1.0.1 in /usr/local/lib/python3.6/dist-packages (from matplotlib->chartpy==0.1.8) (1.3.1)\n",
            "Requirement already satisfied: requests-oauthlib>=0.4.0 in /usr/local/lib/python3.6/dist-packages (from twython->chartpy==0.1.8) (1.3.0)\n",
            "Requirement already satisfied: chardet<4,>=3.0.2 in /usr/local/lib/python3.6/dist-packages (from requests->chartpy==0.1.8) (3.0.4)\n",
            "Requirement already satisfied: idna<3,>=2.5 in /usr/local/lib/python3.6/dist-packages (from requests->chartpy==0.1.8) (2.10)\n",
            "Requirement already satisfied: urllib3!=1.25.0,!=1.25.1,<1.26,>=1.21.1 in /usr/local/lib/python3.6/dist-packages (from requests->chartpy==0.1.8) (1.24.3)\n",
            "Requirement already satisfied: certifi>=2017.4.17 in /usr/local/lib/python3.6/dist-packages (from requests->chartpy==0.1.8) (2020.12.5)\n",
            "Requirement already satisfied: six in /usr/local/lib/python3.6/dist-packages (from plotly>=4.5.1->chartpy==0.1.8) (1.15.0)\n",
            "Requirement already satisfied: retrying>=1.3.3 in /usr/local/lib/python3.6/dist-packages (from plotly>=4.5.1->chartpy==0.1.8) (1.3.3)\n",
            "Requirement already satisfied: colorlover>=0.2.1 in /usr/local/lib/python3.6/dist-packages (from cufflinks->chartpy==0.1.8) (0.3.0)\n",
            "Requirement already satisfied: setuptools>=34.4.1 in /usr/local/lib/python3.6/dist-packages (from cufflinks->chartpy==0.1.8) (50.3.2)\n",
            "Requirement already satisfied: ipython>=5.3.0 in /usr/local/lib/python3.6/dist-packages (from cufflinks->chartpy==0.1.8) (5.5.0)\n",
            "Requirement already satisfied: ipywidgets>=7.0.0 in /usr/local/lib/python3.6/dist-packages (from cufflinks->chartpy==0.1.8) (7.5.1)\n",
            "Requirement already satisfied: packaging>=16.8 in /usr/local/lib/python3.6/dist-packages (from bokeh->chartpy==0.1.8) (20.7)\n",
            "Requirement already satisfied: Jinja2>=2.7 in /usr/local/lib/python3.6/dist-packages (from bokeh->chartpy==0.1.8) (2.11.2)\n",
            "Requirement already satisfied: typing-extensions>=3.7.4 in /usr/local/lib/python3.6/dist-packages (from bokeh->chartpy==0.1.8) (3.7.4.3)\n",
            "Requirement already satisfied: PyYAML>=3.10 in /usr/local/lib/python3.6/dist-packages (from bokeh->chartpy==0.1.8) (3.13)\n",
            "Requirement already satisfied: tornado>=5.1 in /usr/local/lib/python3.6/dist-packages (from bokeh->chartpy==0.1.8) (5.1.1)\n",
            "Requirement already satisfied: pillow>=4.0 in /usr/local/lib/python3.6/dist-packages (from bokeh->chartpy==0.1.8) (7.0.0)\n",
            "Collecting freetype-py\n",
            "\u001b[?25l  Downloading https://files.pythonhosted.org/packages/40/b5/56751e13f8b4a42f52c1b85ecce1446f83245190d820b42748eb8574ae43/freetype_py-2.2.0-py3-none-manylinux1_x86_64.whl (890kB)\n",
            "\u001b[K     |████████████████████████████████| 890kB 21.9MB/s \n",
            "\u001b[?25hRequirement already satisfied: oauthlib>=3.0.0 in /usr/local/lib/python3.6/dist-packages (from requests-oauthlib>=0.4.0->twython->chartpy==0.1.8) (3.1.0)\n",
            "Requirement already satisfied: traitlets>=4.2 in /usr/local/lib/python3.6/dist-packages (from ipython>=5.3.0->cufflinks->chartpy==0.1.8) (4.3.3)\n",
            "Requirement already satisfied: pexpect; sys_platform != \"win32\" in /usr/local/lib/python3.6/dist-packages (from ipython>=5.3.0->cufflinks->chartpy==0.1.8) (4.8.0)\n",
            "Requirement already satisfied: pickleshare in /usr/local/lib/python3.6/dist-packages (from ipython>=5.3.0->cufflinks->chartpy==0.1.8) (0.7.5)\n",
            "Requirement already satisfied: pygments in /usr/local/lib/python3.6/dist-packages (from ipython>=5.3.0->cufflinks->chartpy==0.1.8) (2.6.1)\n",
            "Requirement already satisfied: simplegeneric>0.8 in /usr/local/lib/python3.6/dist-packages (from ipython>=5.3.0->cufflinks->chartpy==0.1.8) (0.8.1)\n",
            "Requirement already satisfied: prompt-toolkit<2.0.0,>=1.0.4 in /usr/local/lib/python3.6/dist-packages (from ipython>=5.3.0->cufflinks->chartpy==0.1.8) (1.0.18)\n",
            "Requirement already satisfied: decorator in /usr/local/lib/python3.6/dist-packages (from ipython>=5.3.0->cufflinks->chartpy==0.1.8) (4.4.2)\n",
            "Requirement already satisfied: ipykernel>=4.5.1 in /usr/local/lib/python3.6/dist-packages (from ipywidgets>=7.0.0->cufflinks->chartpy==0.1.8) (4.10.1)\n",
            "Requirement already satisfied: widgetsnbextension~=3.5.0 in /usr/local/lib/python3.6/dist-packages (from ipywidgets>=7.0.0->cufflinks->chartpy==0.1.8) (3.5.1)\n",
            "Requirement already satisfied: nbformat>=4.2.0 in /usr/local/lib/python3.6/dist-packages (from ipywidgets>=7.0.0->cufflinks->chartpy==0.1.8) (5.0.8)\n",
            "Requirement already satisfied: MarkupSafe>=0.23 in /usr/local/lib/python3.6/dist-packages (from Jinja2>=2.7->bokeh->chartpy==0.1.8) (1.1.1)\n",
            "Requirement already satisfied: ipython-genutils in /usr/local/lib/python3.6/dist-packages (from traitlets>=4.2->ipython>=5.3.0->cufflinks->chartpy==0.1.8) (0.2.0)\n",
            "Requirement already satisfied: ptyprocess>=0.5 in /usr/local/lib/python3.6/dist-packages (from pexpect; sys_platform != \"win32\"->ipython>=5.3.0->cufflinks->chartpy==0.1.8) (0.6.0)\n",
            "Requirement already satisfied: wcwidth in /usr/local/lib/python3.6/dist-packages (from prompt-toolkit<2.0.0,>=1.0.4->ipython>=5.3.0->cufflinks->chartpy==0.1.8) (0.2.5)\n",
            "Requirement already satisfied: jupyter-client in /usr/local/lib/python3.6/dist-packages (from ipykernel>=4.5.1->ipywidgets>=7.0.0->cufflinks->chartpy==0.1.8) (5.3.5)\n",
            "Requirement already satisfied: notebook>=4.4.1 in /usr/local/lib/python3.6/dist-packages (from widgetsnbextension~=3.5.0->ipywidgets>=7.0.0->cufflinks->chartpy==0.1.8) (5.3.1)\n",
            "Requirement already satisfied: jupyter-core in /usr/local/lib/python3.6/dist-packages (from nbformat>=4.2.0->ipywidgets>=7.0.0->cufflinks->chartpy==0.1.8) (4.7.0)\n",
            "Requirement already satisfied: jsonschema!=2.5.0,>=2.4 in /usr/local/lib/python3.6/dist-packages (from nbformat>=4.2.0->ipywidgets>=7.0.0->cufflinks->chartpy==0.1.8) (2.6.0)\n",
            "Requirement already satisfied: pyzmq>=13 in /usr/local/lib/python3.6/dist-packages (from jupyter-client->ipykernel>=4.5.1->ipywidgets>=7.0.0->cufflinks->chartpy==0.1.8) (20.0.0)\n",
            "Requirement already satisfied: Send2Trash in /usr/local/lib/python3.6/dist-packages (from notebook>=4.4.1->widgetsnbextension~=3.5.0->ipywidgets>=7.0.0->cufflinks->chartpy==0.1.8) (1.5.0)\n",
            "Requirement already satisfied: terminado>=0.8.1 in /usr/local/lib/python3.6/dist-packages (from notebook>=4.4.1->widgetsnbextension~=3.5.0->ipywidgets>=7.0.0->cufflinks->chartpy==0.1.8) (0.9.1)\n",
            "Requirement already satisfied: nbconvert in /usr/local/lib/python3.6/dist-packages (from notebook>=4.4.1->widgetsnbextension~=3.5.0->ipywidgets>=7.0.0->cufflinks->chartpy==0.1.8) (5.6.1)\n",
            "Requirement already satisfied: defusedxml in /usr/local/lib/python3.6/dist-packages (from nbconvert->notebook>=4.4.1->widgetsnbextension~=3.5.0->ipywidgets>=7.0.0->cufflinks->chartpy==0.1.8) (0.6.0)\n",
            "Requirement already satisfied: testpath in /usr/local/lib/python3.6/dist-packages (from nbconvert->notebook>=4.4.1->widgetsnbextension~=3.5.0->ipywidgets>=7.0.0->cufflinks->chartpy==0.1.8) (0.4.4)\n",
            "Requirement already satisfied: entrypoints>=0.2.2 in /usr/local/lib/python3.6/dist-packages (from nbconvert->notebook>=4.4.1->widgetsnbextension~=3.5.0->ipywidgets>=7.0.0->cufflinks->chartpy==0.1.8) (0.3)\n",
            "Requirement already satisfied: pandocfilters>=1.4.1 in /usr/local/lib/python3.6/dist-packages (from nbconvert->notebook>=4.4.1->widgetsnbextension~=3.5.0->ipywidgets>=7.0.0->cufflinks->chartpy==0.1.8) (1.4.3)\n",
            "Requirement already satisfied: bleach in /usr/local/lib/python3.6/dist-packages (from nbconvert->notebook>=4.4.1->widgetsnbextension~=3.5.0->ipywidgets>=7.0.0->cufflinks->chartpy==0.1.8) (3.2.1)\n",
            "Requirement already satisfied: mistune<2,>=0.8.1 in /usr/local/lib/python3.6/dist-packages (from nbconvert->notebook>=4.4.1->widgetsnbextension~=3.5.0->ipywidgets>=7.0.0->cufflinks->chartpy==0.1.8) (0.8.4)\n",
            "Requirement already satisfied: webencodings in /usr/local/lib/python3.6/dist-packages (from bleach->nbconvert->notebook>=4.4.1->widgetsnbextension~=3.5.0->ipywidgets>=7.0.0->cufflinks->chartpy==0.1.8) (0.5.1)\n",
            "Building wheels for collected packages: chartpy\n",
            "  Building wheel for chartpy (setup.py) ... \u001b[?25l\u001b[?25hdone\n",
            "  Created wheel for chartpy: filename=chartpy-0.1.8-cp36-none-any.whl size=3799576 sha256=c5b4ce81fbcf461b08fcda84d754f443efcfafa1b22077c547c211c799f8f7e1\n",
            "  Stored in directory: /tmp/pip-ephem-wheel-cache-ibxnjmtj/wheels/72/b8/8e/9e27ed9c3f56653a86ecd3fbc9370aae90368e55f79859c24a\n",
            "Successfully built chartpy\n",
            "Installing collected packages: pdfkit, chart-studio, freetype-py, vispy, chartpy\n",
            "Successfully installed chart-studio-1.1.0 chartpy-0.1.8 freetype-py-2.2.0 pdfkit-0.6.1 vispy-0.6.6\n"
          ],
          "name": "stdout"
        }
      ]
    },
    {
      "cell_type": "code",
      "metadata": {
        "colab": {
          "base_uri": "https://localhost:8080/"
        },
        "id": "xAszX4_2kK93",
        "outputId": "622ccea7-69f8-4fbf-8a37-8bfb244b52e3"
      },
      "source": [
        "pip install git+https://github.com/cuemacro/findatapy.git"
      ],
      "execution_count": 40,
      "outputs": [
        {
          "output_type": "stream",
          "text": [
            "Collecting git+https://github.com/cuemacro/findatapy.git\n",
            "  Cloning https://github.com/cuemacro/findatapy.git to /tmp/pip-req-build-9mw5uc9m\n",
            "  Running command git clone -q https://github.com/cuemacro/findatapy.git /tmp/pip-req-build-9mw5uc9m\n",
            "Requirement already satisfied (use --upgrade to upgrade): findatapy==0.1.18 from git+https://github.com/cuemacro/findatapy.git in /usr/local/lib/python3.6/dist-packages\n",
            "Requirement already satisfied: pandas in /usr/local/lib/python3.6/dist-packages (from findatapy==0.1.18) (1.1.5)\n",
            "Requirement already satisfied: twython in /usr/local/lib/python3.6/dist-packages (from findatapy==0.1.18) (3.8.2)\n",
            "Requirement already satisfied: pytz in /usr/local/lib/python3.6/dist-packages (from findatapy==0.1.18) (2018.9)\n",
            "Requirement already satisfied: requests in /usr/local/lib/python3.6/dist-packages (from findatapy==0.1.18) (2.23.0)\n",
            "Requirement already satisfied: numpy in /usr/local/lib/python3.6/dist-packages (from findatapy==0.1.18) (1.18.5)\n",
            "Requirement already satisfied: pandas_datareader in /usr/local/lib/python3.6/dist-packages (from findatapy==0.1.18) (0.9.0)\n",
            "Requirement already satisfied: fxcmpy in /usr/local/lib/python3.6/dist-packages (from findatapy==0.1.18) (1.2.6)\n",
            "Requirement already satisfied: alpha_vantage in /usr/local/lib/python3.6/dist-packages (from findatapy==0.1.18) (2.2.0)\n",
            "Requirement already satisfied: eikon in /usr/local/lib/python3.6/dist-packages (from findatapy==0.1.18) (1.1.8)\n",
            "Requirement already satisfied: financepy in /usr/local/lib/python3.6/dist-packages (from findatapy==0.1.18) (0.188)\n",
            "Requirement already satisfied: yfinance in /usr/local/lib/python3.6/dist-packages (from findatapy==0.1.18) (0.1.55)\n",
            "Requirement already satisfied: quandl in /usr/local/lib/python3.6/dist-packages (from findatapy==0.1.18) (3.5.3)\n",
            "Requirement already satisfied: statsmodels in /usr/local/lib/python3.6/dist-packages (from findatapy==0.1.18) (0.10.2)\n",
            "Requirement already satisfied: multiprocess in /usr/local/lib/python3.6/dist-packages (from findatapy==0.1.18) (0.70.11.1)\n",
            "Requirement already satisfied: pathos in /usr/local/lib/python3.6/dist-packages (from findatapy==0.1.18) (0.2.7)\n",
            "Requirement already satisfied: redis in /usr/local/lib/python3.6/dist-packages (from findatapy==0.1.18) (3.5.3)\n",
            "Requirement already satisfied: numba in /usr/local/lib/python3.6/dist-packages (from findatapy==0.1.18) (0.48.0)\n",
            "Requirement already satisfied: pyarrow in /usr/local/lib/python3.6/dist-packages (from findatapy==0.1.18) (0.14.1)\n",
            "Requirement already satisfied: keyring in /usr/local/lib/python3.6/dist-packages (from findatapy==0.1.18) (21.5.0)\n",
            "Requirement already satisfied: openpyxl in /usr/local/lib/python3.6/dist-packages (from findatapy==0.1.18) (2.5.9)\n",
            "Requirement already satisfied: python-dateutil>=2.7.3 in /usr/local/lib/python3.6/dist-packages (from pandas->findatapy==0.1.18) (2.8.1)\n",
            "Requirement already satisfied: requests-oauthlib>=0.4.0 in /usr/local/lib/python3.6/dist-packages (from twython->findatapy==0.1.18) (1.3.0)\n",
            "Requirement already satisfied: urllib3!=1.25.0,!=1.25.1,<1.26,>=1.21.1 in /usr/local/lib/python3.6/dist-packages (from requests->findatapy==0.1.18) (1.24.3)\n",
            "Requirement already satisfied: chardet<4,>=3.0.2 in /usr/local/lib/python3.6/dist-packages (from requests->findatapy==0.1.18) (3.0.4)\n",
            "Requirement already satisfied: idna<3,>=2.5 in /usr/local/lib/python3.6/dist-packages (from requests->findatapy==0.1.18) (2.10)\n",
            "Requirement already satisfied: certifi>=2017.4.17 in /usr/local/lib/python3.6/dist-packages (from requests->findatapy==0.1.18) (2020.12.5)\n",
            "Requirement already satisfied: lxml in /usr/local/lib/python3.6/dist-packages (from pandas_datareader->findatapy==0.1.18) (4.2.6)\n",
            "Requirement already satisfied: configparser in /usr/local/lib/python3.6/dist-packages (from fxcmpy->findatapy==0.1.18) (5.0.1)\n",
            "Requirement already satisfied: socketIO-client in /usr/local/lib/python3.6/dist-packages (from fxcmpy->findatapy==0.1.18) (0.7.2)\n",
            "Requirement already satisfied: aiohttp in /usr/local/lib/python3.6/dist-packages (from alpha_vantage->findatapy==0.1.18) (3.7.3)\n",
            "Requirement already satisfied: deprecation in /usr/local/lib/python3.6/dist-packages (from eikon->findatapy==0.1.18) (2.1.0)\n",
            "Requirement already satisfied: httpx<0.15 in /usr/local/lib/python3.6/dist-packages (from eikon->findatapy==0.1.18) (0.14.3)\n",
            "Requirement already satisfied: nest-asyncio<1.4.0,>=1.3.0 in /usr/local/lib/python3.6/dist-packages (from eikon->findatapy==0.1.18) (1.3.3)\n",
            "Requirement already satisfied: websocket-client in /usr/local/lib/python3.6/dist-packages (from eikon->findatapy==0.1.18) (0.57.0)\n",
            "Requirement already satisfied: datetime in /usr/local/lib/python3.6/dist-packages (from eikon->findatapy==0.1.18) (4.3)\n",
            "Requirement already satisfied: appdirs>=1.4.3 in /usr/local/lib/python3.6/dist-packages (from eikon->findatapy==0.1.18) (1.4.4)\n",
            "Requirement already satisfied: scipy in /usr/local/lib/python3.6/dist-packages (from financepy->findatapy==0.1.18) (1.4.1)\n",
            "Requirement already satisfied: multitasking>=0.0.7 in /usr/local/lib/python3.6/dist-packages (from yfinance->findatapy==0.1.18) (0.0.9)\n",
            "Requirement already satisfied: six in /usr/local/lib/python3.6/dist-packages (from quandl->findatapy==0.1.18) (1.15.0)\n",
            "Requirement already satisfied: inflection>=0.3.1 in /usr/local/lib/python3.6/dist-packages (from quandl->findatapy==0.1.18) (0.5.1)\n",
            "Requirement already satisfied: more-itertools in /usr/local/lib/python3.6/dist-packages (from quandl->findatapy==0.1.18) (8.6.0)\n",
            "Requirement already satisfied: patsy>=0.4.0 in /usr/local/lib/python3.6/dist-packages (from statsmodels->findatapy==0.1.18) (0.5.1)\n",
            "Requirement already satisfied: dill>=0.3.3 in /usr/local/lib/python3.6/dist-packages (from multiprocess->findatapy==0.1.18) (0.3.3)\n",
            "Requirement already satisfied: ppft>=1.6.6.3 in /usr/local/lib/python3.6/dist-packages (from pathos->findatapy==0.1.18) (1.6.6.3)\n",
            "Requirement already satisfied: pox>=0.2.9 in /usr/local/lib/python3.6/dist-packages (from pathos->findatapy==0.1.18) (0.2.9)\n",
            "Requirement already satisfied: setuptools in /usr/local/lib/python3.6/dist-packages (from numba->findatapy==0.1.18) (50.3.2)\n",
            "Requirement already satisfied: llvmlite<0.32.0,>=0.31.0dev0 in /usr/local/lib/python3.6/dist-packages (from numba->findatapy==0.1.18) (0.31.0)\n",
            "Requirement already satisfied: jeepney>=0.4.2; sys_platform == \"linux\" in /usr/local/lib/python3.6/dist-packages (from keyring->findatapy==0.1.18) (0.6.0)\n",
            "Requirement already satisfied: importlib-metadata>=1; python_version < \"3.8\" in /usr/local/lib/python3.6/dist-packages (from keyring->findatapy==0.1.18) (3.1.1)\n",
            "Requirement already satisfied: SecretStorage>=3.2; sys_platform == \"linux\" in /usr/local/lib/python3.6/dist-packages (from keyring->findatapy==0.1.18) (3.3.0)\n",
            "Requirement already satisfied: et-xmlfile in /usr/local/lib/python3.6/dist-packages (from openpyxl->findatapy==0.1.18) (1.0.1)\n",
            "Requirement already satisfied: jdcal in /usr/local/lib/python3.6/dist-packages (from openpyxl->findatapy==0.1.18) (1.4.1)\n",
            "Requirement already satisfied: oauthlib>=3.0.0 in /usr/local/lib/python3.6/dist-packages (from requests-oauthlib>=0.4.0->twython->findatapy==0.1.18) (3.1.0)\n",
            "Requirement already satisfied: typing-extensions>=3.6.5 in /usr/local/lib/python3.6/dist-packages (from aiohttp->alpha_vantage->findatapy==0.1.18) (3.7.4.3)\n",
            "Requirement already satisfied: attrs>=17.3.0 in /usr/local/lib/python3.6/dist-packages (from aiohttp->alpha_vantage->findatapy==0.1.18) (20.3.0)\n",
            "Requirement already satisfied: idna-ssl>=1.0; python_version < \"3.7\" in /usr/local/lib/python3.6/dist-packages (from aiohttp->alpha_vantage->findatapy==0.1.18) (1.1.0)\n",
            "Requirement already satisfied: yarl<2.0,>=1.0 in /usr/local/lib/python3.6/dist-packages (from aiohttp->alpha_vantage->findatapy==0.1.18) (1.6.3)\n",
            "Requirement already satisfied: multidict<7.0,>=4.5 in /usr/local/lib/python3.6/dist-packages (from aiohttp->alpha_vantage->findatapy==0.1.18) (5.1.0)\n",
            "Requirement already satisfied: async-timeout<4.0,>=3.0 in /usr/local/lib/python3.6/dist-packages (from aiohttp->alpha_vantage->findatapy==0.1.18) (3.0.1)\n",
            "Requirement already satisfied: packaging in /usr/local/lib/python3.6/dist-packages (from deprecation->eikon->findatapy==0.1.18) (20.7)\n",
            "Requirement already satisfied: rfc3986[idna2008]<2,>=1.3 in /usr/local/lib/python3.6/dist-packages (from httpx<0.15->eikon->findatapy==0.1.18) (1.4.0)\n",
            "Requirement already satisfied: sniffio in /usr/local/lib/python3.6/dist-packages (from httpx<0.15->eikon->findatapy==0.1.18) (1.2.0)\n",
            "Requirement already satisfied: httpcore==0.10.* in /usr/local/lib/python3.6/dist-packages (from httpx<0.15->eikon->findatapy==0.1.18) (0.10.2)\n",
            "Requirement already satisfied: zope.interface in /usr/local/lib/python3.6/dist-packages (from datetime->eikon->findatapy==0.1.18) (5.2.0)\n",
            "Requirement already satisfied: zipp>=0.5 in /usr/local/lib/python3.6/dist-packages (from importlib-metadata>=1; python_version < \"3.8\"->keyring->findatapy==0.1.18) (3.4.0)\n",
            "Requirement already satisfied: cryptography>=2.0 in /usr/local/lib/python3.6/dist-packages (from SecretStorage>=3.2; sys_platform == \"linux\"->keyring->findatapy==0.1.18) (3.3.1)\n",
            "Requirement already satisfied: pyparsing>=2.0.2 in /usr/local/lib/python3.6/dist-packages (from packaging->deprecation->eikon->findatapy==0.1.18) (2.4.7)\n",
            "Requirement already satisfied: contextvars>=2.1; python_version < \"3.7\" in /usr/local/lib/python3.6/dist-packages (from sniffio->httpx<0.15->eikon->findatapy==0.1.18) (2.4)\n",
            "Requirement already satisfied: h11<0.10,>=0.8 in /usr/local/lib/python3.6/dist-packages (from httpcore==0.10.*->httpx<0.15->eikon->findatapy==0.1.18) (0.9.0)\n",
            "Requirement already satisfied: cffi>=1.12 in /usr/local/lib/python3.6/dist-packages (from cryptography>=2.0->SecretStorage>=3.2; sys_platform == \"linux\"->keyring->findatapy==0.1.18) (1.14.4)\n",
            "Requirement already satisfied: immutables>=0.9 in /usr/local/lib/python3.6/dist-packages (from contextvars>=2.1; python_version < \"3.7\"->sniffio->httpx<0.15->eikon->findatapy==0.1.18) (0.14)\n",
            "Requirement already satisfied: pycparser in /usr/local/lib/python3.6/dist-packages (from cffi>=1.12->cryptography>=2.0->SecretStorage>=3.2; sys_platform == \"linux\"->keyring->findatapy==0.1.18) (2.20)\n",
            "Building wheels for collected packages: findatapy\n",
            "  Building wheel for findatapy (setup.py) ... \u001b[?25l\u001b[?25hdone\n",
            "  Created wheel for findatapy: filename=findatapy-0.1.18-cp36-none-any.whl size=1619862 sha256=c6659b9947862c63d88c0611686a50d8d5ac14afd2c4a0df2ed3c5ad7ee9a2b6\n",
            "  Stored in directory: /tmp/pip-ephem-wheel-cache-_ksdhjzr/wheels/b1/66/30/1db4939a38dfb9f05bae8c63072c0d3c8cae3398374f84cfc1\n",
            "Successfully built findatapy\n"
          ],
          "name": "stdout"
        }
      ]
    },
    {
      "cell_type": "code",
      "metadata": {
        "id": "--icr_1PjFd2"
      },
      "source": [
        "logger = LoggerManager().getLogger(__name__)\n",
        "\n",
        "import datetime"
      ],
      "execution_count": 36,
      "outputs": []
    },
    {
      "cell_type": "markdown",
      "metadata": {
        "id": "vb7iCIlAk50Q"
      },
      "source": [
        "# First, let's do all the imports."
      ]
    },
    {
      "cell_type": "code",
      "metadata": {
        "id": "pS79kH9ukWPQ"
      },
      "source": [
        "from finmarketpy.backtest import BacktestRequest, Backtest\n",
        "from findatapy.market import Market, MarketDataRequest, MarketDataGenerator\n",
        "from findatapy.util.fxconv import FXConv\n",
        "\n",
        "# for logging\n",
        "from findatapy.util.loggermanager import LoggerManager\n",
        "\n",
        "# for signal generation\n",
        "from finmarketpy.economics import TechIndicator, TechParams\n",
        "\n",
        "# for plotting\n",
        "from chartpy import Chart, Style"
      ],
      "execution_count": 41,
      "outputs": []
    },
    {
      "cell_type": "markdown",
      "metadata": {
        "id": "frKLX1ZGk-he"
      },
      "source": [
        "# Create a logger."
      ]
    },
    {
      "cell_type": "code",
      "metadata": {
        "id": "MDQ4VKfbkax0"
      },
      "source": [
        "\n",
        "# housekeeping\n",
        "logger = LoggerManager().getLogger(__name__)\n",
        "\n",
        "import datetime"
      ],
      "execution_count": 42,
      "outputs": []
    },
    {
      "cell_type": "markdown",
      "metadata": {
        "id": "rdVQRWW3lDJ-"
      },
      "source": [
        "# Let's load up market data. Note you will need to type in your Quandl API key below (or set it as an environment variable before running this Jupyter notebook). You can get a free API key from Quandl.com, once you sign up for a free account."
      ]
    },
    {
      "cell_type": "code",
      "metadata": {
        "colab": {
          "base_uri": "https://localhost:8080/"
        },
        "id": "KvfA8t6dklMF",
        "outputId": "f1ae540f-c860-4b01-da60-a6062cd7046f"
      },
      "source": [
        "try:\n",
        "    import os\n",
        "    \n",
        "    QUANDL_API_KEY = os.environ['BzU-PW5ZVvpZsoFGh8XD']\n",
        "except:\n",
        "    QUANDL_API_KEY = 'TYPE_YOUR_KEY_HERE'\n",
        "\n",
        "# pick USD crosses in G10 FX\n",
        "# note: we are calculating returns from spot (it is much better to use to total return\n",
        "# indices for FX, which include carry)\n",
        "logger.info(\"Loading asset data...\")\n",
        "\n",
        "tickers = ['EURUSD', 'USDJPY', 'GBPUSD', 'AUDUSD', 'USDCAD',\n",
        "           'NZDUSD', 'USDCHF', 'USDNOK', 'USDSEK']\n",
        "\n",
        "vendor_tickers = ['FRED/DEXUSEU', 'FRED/DEXJPUS', 'FRED/DEXUSUK', 'FRED/DEXUSAL', 'FRED/DEXCAUS',\n",
        "                  'FRED/DEXUSNZ', 'FRED/DEXSZUS', 'FRED/DEXNOUS', 'FRED/DEXSDUS']\n",
        "\n",
        "md_request = MarketDataRequest(\n",
        "    start_date=\"01 Jan 1989\",  # start date\n",
        "    finish_date=datetime.date.today(),  # finish date\n",
        "    freq='daily',  # daily data\n",
        "    data_source='quandl',  # use Quandl as data source\n",
        "    tickers=tickers,  # ticker (findatapy)\n",
        "    fields=['close'],  # which fields to download\n",
        "    vendor_tickers=vendor_tickers,  # ticker (Quandl)\n",
        "    vendor_fields=['close'],  # which Bloomberg fields to download\n",
        "    cache_algo='internet_load_return',\n",
        "    quandl_api_key=QUANDL_API_KEY)  # how to return data\n",
        "\n",
        "market = Market(market_data_generator=MarketDataGenerator())\n",
        "\n",
        "asset_df = market.fetch_market(md_request)\n",
        "spot_df = asset_df"
      ],
      "execution_count": 60,
      "outputs": [
        {
          "output_type": "stream",
          "text": [
            "Loading asset data...\n",
            "2020-12-16 22:24:03,689 - __main__ - INFO - Loading asset data...\n",
            "2020-12-16 22:24:03,696 - findatapy.market.datavendorweb - INFO - Request Quandl data\n",
            "2020-12-16 22:24:03,697 - findatapy.market.datavendorweb - INFO - Request Quandl data\n",
            "2020-12-16 22:24:03,697 - findatapy.market.datavendorweb - INFO - Request Quandl data\n",
            "2020-12-16 22:24:03,698 - findatapy.market.datavendorweb - INFO - Request Quandl data\n",
            "2020-12-16 22:24:03,829 - findatapy.market.datavendorweb - INFO - Attempting... 1 request to download from Quandl due to following error: (Status 400) (Quandl Error QEAx01) We could not recognize your API key. Please check your API key and try again.\n",
            "2020-12-16 22:24:03,863 - findatapy.market.datavendorweb - INFO - Attempting... 1 request to download from Quandl due to following error: (Status 400) (Quandl Error QEAx01) We could not recognize your API key. Please check your API key and try again.\n",
            "2020-12-16 22:24:03,872 - findatapy.market.datavendorweb - INFO - Attempting... 1 request to download from Quandl due to following error: (Status 400) (Quandl Error QEAx01) We could not recognize your API key. Please check your API key and try again.\n",
            "2020-12-16 22:24:03,918 - findatapy.market.datavendorweb - INFO - Attempting... 2 request to download from Quandl due to following error: (Status 400) (Quandl Error QEAx01) We could not recognize your API key. Please check your API key and try again.\n",
            "2020-12-16 22:24:03,925 - findatapy.market.datavendorweb - INFO - Attempting... 1 request to download from Quandl due to following error: (Status 400) (Quandl Error QEAx01) We could not recognize your API key. Please check your API key and try again.\n",
            "2020-12-16 22:24:03,933 - findatapy.market.datavendorweb - INFO - Attempting... 2 request to download from Quandl due to following error: (Status 400) (Quandl Error QEAx01) We could not recognize your API key. Please check your API key and try again.\n",
            "2020-12-16 22:24:03,955 - findatapy.market.datavendorweb - INFO - Attempting... 2 request to download from Quandl due to following error: (Status 400) (Quandl Error QEAx01) We could not recognize your API key. Please check your API key and try again.\n",
            "2020-12-16 22:24:04,054 - findatapy.market.datavendorweb - INFO - Attempting... 3 request to download from Quandl due to following error: (Status 400) (Quandl Error QEAx01) We could not recognize your API key. Please check your API key and try again.\n",
            "2020-12-16 22:24:04,060 - findatapy.market.datavendorweb - INFO - Attempting... 3 request to download from Quandl due to following error: (Status 400) (Quandl Error QEAx01) We could not recognize your API key. Please check your API key and try again.\n",
            "2020-12-16 22:24:04,066 - findatapy.market.datavendorweb - INFO - Attempting... 2 request to download from Quandl due to following error: (Status 400) (Quandl Error QEAx01) We could not recognize your API key. Please check your API key and try again.\n",
            "2020-12-16 22:24:04,069 - findatapy.market.datavendorweb - INFO - Attempting... 3 request to download from Quandl due to following error: (Status 400) (Quandl Error QEAx01) We could not recognize your API key. Please check your API key and try again.\n",
            "2020-12-16 22:24:04,134 - findatapy.market.datavendorweb - INFO - Attempting... 4 request to download from Quandl due to following error: (Status 400) (Quandl Error QEAx01) We could not recognize your API key. Please check your API key and try again.\n",
            "2020-12-16 22:24:04,145 - findatapy.market.datavendorweb - INFO - Attempting... 4 request to download from Quandl due to following error: (Status 400) (Quandl Error QEAx01) We could not recognize your API key. Please check your API key and try again.\n",
            "2020-12-16 22:24:04,153 - findatapy.market.datavendorweb - INFO - Attempting... 4 request to download from Quandl due to following error: (Status 400) (Quandl Error QEAx01) We could not recognize your API key. Please check your API key and try again.\n",
            "2020-12-16 22:24:04,153 - findatapy.market.datavendorweb - INFO - Attempting... 3 request to download from Quandl due to following error: (Status 400) (Quandl Error QEAx01) We could not recognize your API key. Please check your API key and try again.\n",
            "2020-12-16 22:24:04,227 - findatapy.market.datavendorweb - INFO - Attempting... 5 request to download from Quandl due to following error: (Status 400) (Quandl Error QEAx01) We could not recognize your API key. Please check your API key and try again.\n",
            "2020-12-16 22:24:04,231 - findatapy.market.datavendorweb - ERROR - Couldn't download from Quandl after several attempts!\n",
            "2020-12-16 22:24:04,232 - findatapy.market.datavendorweb - INFO - Request Quandl data\n",
            "2020-12-16 22:24:04,240 - findatapy.market.datavendorweb - INFO - Attempting... 5 request to download from Quandl due to following error: (Status 400) (Quandl Error QEAx01) We could not recognize your API key. Please check your API key and try again.\n",
            "2020-12-16 22:24:04,243 - findatapy.market.datavendorweb - ERROR - Couldn't download from Quandl after several attempts!\n",
            "2020-12-16 22:24:04,246 - findatapy.market.datavendorweb - INFO - Request Quandl data\n",
            "2020-12-16 22:24:04,246 - findatapy.market.datavendorweb - INFO - Attempting... 4 request to download from Quandl due to following error: (Status 400) (Quandl Error QEAx01) We could not recognize your API key. Please check your API key and try again.\n",
            "2020-12-16 22:24:04,249 - findatapy.market.datavendorweb - INFO - Attempting... 5 request to download from Quandl due to following error: (Status 400) (Quandl Error QEAx01) We could not recognize your API key. Please check your API key and try again.\n",
            "2020-12-16 22:24:04,263 - findatapy.market.datavendorweb - ERROR - Couldn't download from Quandl after several attempts!\n",
            "2020-12-16 22:24:04,267 - findatapy.market.datavendorweb - INFO - Request Quandl data\n",
            "2020-12-16 22:24:04,329 - findatapy.market.datavendorweb - INFO - Attempting... 1 request to download from Quandl due to following error: (Status 400) (Quandl Error QEAx01) We could not recognize your API key. Please check your API key and try again.\n",
            "2020-12-16 22:24:04,336 - findatapy.market.datavendorweb - INFO - Attempting... 1 request to download from Quandl due to following error: (Status 400) (Quandl Error QEAx01) We could not recognize your API key. Please check your API key and try again.\n",
            "2020-12-16 22:24:04,343 - findatapy.market.datavendorweb - INFO - Attempting... 5 request to download from Quandl due to following error: (Status 400) (Quandl Error QEAx01) We could not recognize your API key. Please check your API key and try again.\n",
            "2020-12-16 22:24:04,346 - findatapy.market.datavendorweb - ERROR - Couldn't download from Quandl after several attempts!\n",
            "2020-12-16 22:24:04,347 - findatapy.market.datavendorweb - INFO - Request Quandl data\n",
            "2020-12-16 22:24:04,353 - findatapy.market.datavendorweb - INFO - Attempting... 1 request to download from Quandl due to following error: (Status 400) (Quandl Error QEAx01) We could not recognize your API key. Please check your API key and try again.\n",
            "2020-12-16 22:24:04,414 - findatapy.market.datavendorweb - INFO - Attempting... 2 request to download from Quandl due to following error: (Status 400) (Quandl Error QEAx01) We could not recognize your API key. Please check your API key and try again.\n",
            "2020-12-16 22:24:04,421 - findatapy.market.datavendorweb - INFO - Attempting... 2 request to download from Quandl due to following error: (Status 400) (Quandl Error QEAx01) We could not recognize your API key. Please check your API key and try again.\n",
            "2020-12-16 22:24:04,433 - findatapy.market.datavendorweb - INFO - Attempting... 2 request to download from Quandl due to following error: (Status 400) (Quandl Error QEAx01) We could not recognize your API key. Please check your API key and try again.\n",
            "2020-12-16 22:24:04,463 - findatapy.market.datavendorweb - INFO - Attempting... 1 request to download from Quandl due to following error: (Status 400) (Quandl Error QEAx01) We could not recognize your API key. Please check your API key and try again.\n",
            "2020-12-16 22:24:04,502 - findatapy.market.datavendorweb - INFO - Attempting... 3 request to download from Quandl due to following error: (Status 400) (Quandl Error QEAx01) We could not recognize your API key. Please check your API key and try again.\n",
            "2020-12-16 22:24:04,506 - findatapy.market.datavendorweb - INFO - Attempting... 3 request to download from Quandl due to following error: (Status 400) (Quandl Error QEAx01) We could not recognize your API key. Please check your API key and try again.\n",
            "2020-12-16 22:24:04,536 - findatapy.market.datavendorweb - INFO - Attempting... 3 request to download from Quandl due to following error: (Status 400) (Quandl Error QEAx01) We could not recognize your API key. Please check your API key and try again.\n",
            "2020-12-16 22:24:04,544 - findatapy.market.datavendorweb - INFO - Attempting... 2 request to download from Quandl due to following error: (Status 400) (Quandl Error QEAx01) We could not recognize your API key. Please check your API key and try again.\n",
            "2020-12-16 22:24:04,589 - findatapy.market.datavendorweb - INFO - Attempting... 4 request to download from Quandl due to following error: (Status 400) (Quandl Error QEAx01) We could not recognize your API key. Please check your API key and try again.\n",
            "2020-12-16 22:24:04,626 - findatapy.market.datavendorweb - INFO - Attempting... 3 request to download from Quandl due to following error: (Status 400) (Quandl Error QEAx01) We could not recognize your API key. Please check your API key and try again.\n",
            "2020-12-16 22:24:04,635 - findatapy.market.datavendorweb - INFO - Attempting... 4 request to download from Quandl due to following error: (Status 400) (Quandl Error QEAx01) We could not recognize your API key. Please check your API key and try again.\n",
            "2020-12-16 22:24:04,674 - findatapy.market.datavendorweb - INFO - Attempting... 5 request to download from Quandl due to following error: (Status 400) (Quandl Error QEAx01) We could not recognize your API key. Please check your API key and try again.\n",
            "2020-12-16 22:24:04,677 - findatapy.market.datavendorweb - INFO - Attempting... 4 request to download from Quandl due to following error: (Status 400) (Quandl Error QEAx01) We could not recognize your API key. Please check your API key and try again.\n",
            "2020-12-16 22:24:04,679 - findatapy.market.datavendorweb - ERROR - Couldn't download from Quandl after several attempts!\n",
            "2020-12-16 22:24:04,688 - findatapy.market.datavendorweb - INFO - Request Quandl data\n",
            "2020-12-16 22:24:04,715 - findatapy.market.datavendorweb - INFO - Attempting... 5 request to download from Quandl due to following error: (Status 400) (Quandl Error QEAx01) We could not recognize your API key. Please check your API key and try again.\n",
            "2020-12-16 22:24:04,718 - findatapy.market.datavendorweb - ERROR - Couldn't download from Quandl after several attempts!\n",
            "2020-12-16 22:24:04,721 - findatapy.market.datavendorweb - INFO - Attempting... 4 request to download from Quandl due to following error: (Status 400) (Quandl Error QEAx01) We could not recognize your API key. Please check your API key and try again.\n",
            "2020-12-16 22:24:04,748 - findatapy.market.datavendorweb - INFO - Attempting... 5 request to download from Quandl due to following error: (Status 400) (Quandl Error QEAx01) We could not recognize your API key. Please check your API key and try again.\n",
            "2020-12-16 22:24:04,751 - findatapy.market.datavendorweb - ERROR - Couldn't download from Quandl after several attempts!\n",
            "2020-12-16 22:24:04,761 - findatapy.market.datavendorweb - INFO - Attempting... 1 request to download from Quandl due to following error: (Status 400) (Quandl Error QEAx01) We could not recognize your API key. Please check your API key and try again.\n",
            "2020-12-16 22:24:04,807 - findatapy.market.datavendorweb - INFO - Attempting... 5 request to download from Quandl due to following error: (Status 400) (Quandl Error QEAx01) We could not recognize your API key. Please check your API key and try again.\n",
            "2020-12-16 22:24:04,810 - findatapy.market.datavendorweb - ERROR - Couldn't download from Quandl after several attempts!\n",
            "2020-12-16 22:24:04,828 - findatapy.market.datavendorweb - INFO - Attempting... 2 request to download from Quandl due to following error: (Status 400) (Quandl Error QEAx01) We could not recognize your API key. Please check your API key and try again.\n",
            "2020-12-16 22:24:04,899 - findatapy.market.datavendorweb - INFO - Attempting... 3 request to download from Quandl due to following error: (Status 400) (Quandl Error QEAx01) We could not recognize your API key. Please check your API key and try again.\n",
            "2020-12-16 22:24:04,980 - findatapy.market.datavendorweb - INFO - Attempting... 4 request to download from Quandl due to following error: (Status 400) (Quandl Error QEAx01) We could not recognize your API key. Please check your API key and try again.\n",
            "2020-12-16 22:24:05,062 - findatapy.market.datavendorweb - INFO - Attempting... 5 request to download from Quandl due to following error: (Status 400) (Quandl Error QEAx01) We could not recognize your API key. Please check your API key and try again.\n",
            "2020-12-16 22:24:05,065 - findatapy.market.datavendorweb - ERROR - Couldn't download from Quandl after several attempts!\n",
            "2020-12-16 22:24:05,108 - findatapy.market.marketdatagenerator - WARNING - No data returned for ['EURUSD', 'USDJPY', 'GBPUSD', 'AUDUSD', 'USDCAD', 'NZDUSD', 'USDCHF', 'USDNOK', 'USDSEK']\n",
            "2020-12-16 22:24:05,110 - findatapy.market.ioengine - INFO - Object MarketDataRequest_577__abstract_curve_key-None__category-None__category_key-backtest_default-cat_quandl_daily_NYC__cut-NYC__data_source-quandl__environment-backtest__expiry_date-NaT__fields-close__finish_date-2020-12-16 00:00:00__freq-daily__freq_mult-1__gran_freq-None__push_to_cache-True__resample-None__resample_how-last__start_date-1989-01-01 00:00:00__tickers-EURUSD_USDJPY_GBPUSD_AUDUSD_USDCAD_NZDUSD_USDCHF_USDNOK_USDSEK__trade_side-trade__vendor_fields-close__vendor_tickers-FRED_DEXUSEU_FRED_DEXJPUS_FRED_DEXUSUK_FRED_DEXUSAL_FRED_DEXCAUS_FRED_DEXUSNZ_FRED_DEXSZUS_FRED_DEXNOUS_FRED_DEXSDUS is empty, not pushed to Redis.\n"
          ],
          "name": "stdout"
        }
      ]
    },
    {
      "cell_type": "markdown",
      "metadata": {
        "id": "s-OdL1JrlKvt"
      },
      "source": [
        "# Let's define all the parameters for the backtest, start/finish dates, technical indicator we'll use etc."
      ]
    },
    {
      "cell_type": "code",
      "metadata": {
        "id": "l9DDBmkqlQo9"
      },
      "source": [
        "backtest = Backtest()\n",
        "br = BacktestRequest()\n",
        "fxconv = FXConv()\n",
        "\n",
        "# get all asset data\n",
        "br.start_date = \"02 Jan 1990\"\n",
        "br.finish_date = datetime.datetime.utcnow()\n",
        "br.spot_tc_bp = 0  # 2.5 bps bid/ask spread\n",
        "br.ann_factor = 252\n",
        "\n",
        "# have vol target for each signal\n",
        "br.signal_vol_adjust = True\n",
        "br.signal_vol_target = 0.05\n",
        "br.signal_vol_max_leverage = 3\n",
        "br.signal_vol_periods = 60\n",
        "br.signal_vol_obs_in_year = 252\n",
        "br.signal_vol_rebalance_freq = 'BM'\n",
        "br.signal_vol_resample_freq = None\n",
        "\n",
        "tech_params = TechParams();\n",
        "tech_params.sma_period = 200;\n",
        "indicator = 'SMA'"
      ],
      "execution_count": 61,
      "outputs": []
    },
    {
      "cell_type": "markdown",
      "metadata": {
        "id": "zLO_j4CVlV_D"
      },
      "source": [
        "# Calculate the technical indicator and the trading signal."
      ]
    },
    {
      "cell_type": "code",
      "metadata": {
        "colab": {
          "base_uri": "https://localhost:8080/",
          "height": 368
        },
        "id": "lKIFocQ9lYqG",
        "outputId": "3966c79a-b929-421f-912f-27f4f9cfc180"
      },
      "source": [
        "logger.info(\"Running backtest...\")\n",
        "\n",
        "# use technical indicator to create signals\n",
        "# (we could obviously create whatever function we wanted for generating the signal dataframe)\n",
        "tech_ind = TechIndicator()\n",
        "tech_ind.create_tech_ind(spot_df, indicator, tech_params);\n",
        "signal_df = tech_ind.get_signal()"
      ],
      "execution_count": 62,
      "outputs": [
        {
          "output_type": "stream",
          "text": [
            "Running backtest...\n",
            "2020-12-16 22:24:14,232 - __main__ - INFO - Running backtest...\n"
          ],
          "name": "stdout"
        },
        {
          "output_type": "error",
          "ename": "AttributeError",
          "evalue": "ignored",
          "traceback": [
            "\u001b[0;31m---------------------------------------------------------------------------\u001b[0m",
            "\u001b[0;31mAttributeError\u001b[0m                            Traceback (most recent call last)",
            "\u001b[0;32m<ipython-input-62-88684f100215>\u001b[0m in \u001b[0;36m<module>\u001b[0;34m()\u001b[0m\n\u001b[1;32m      4\u001b[0m \u001b[0;31m# (we could obviously create whatever function we wanted for generating the signal dataframe)\u001b[0m\u001b[0;34m\u001b[0m\u001b[0;34m\u001b[0m\u001b[0;34m\u001b[0m\u001b[0m\n\u001b[1;32m      5\u001b[0m \u001b[0mtech_ind\u001b[0m \u001b[0;34m=\u001b[0m \u001b[0mTechIndicator\u001b[0m\u001b[0;34m(\u001b[0m\u001b[0;34m)\u001b[0m\u001b[0;34m\u001b[0m\u001b[0;34m\u001b[0m\u001b[0m\n\u001b[0;32m----> 6\u001b[0;31m \u001b[0mtech_ind\u001b[0m\u001b[0;34m.\u001b[0m\u001b[0mcreate_tech_ind\u001b[0m\u001b[0;34m(\u001b[0m\u001b[0mspot_df\u001b[0m\u001b[0;34m,\u001b[0m \u001b[0mindicator\u001b[0m\u001b[0;34m,\u001b[0m \u001b[0mtech_params\u001b[0m\u001b[0;34m)\u001b[0m\u001b[0;34m;\u001b[0m\u001b[0;34m\u001b[0m\u001b[0;34m\u001b[0m\u001b[0m\n\u001b[0m\u001b[1;32m      7\u001b[0m \u001b[0msignal_df\u001b[0m \u001b[0;34m=\u001b[0m \u001b[0mtech_ind\u001b[0m\u001b[0;34m.\u001b[0m\u001b[0mget_signal\u001b[0m\u001b[0;34m(\u001b[0m\u001b[0;34m)\u001b[0m\u001b[0;34m\u001b[0m\u001b[0;34m\u001b[0m\u001b[0m\n",
            "\u001b[0;32m/usr/local/lib/python3.6/dist-packages/finmarketpy/economics/techindicator.py\u001b[0m in \u001b[0;36mcreate_tech_ind\u001b[0;34m(self, data_frame_non_nan, name, tech_params, data_frame_non_nan_early)\u001b[0m\n\u001b[1;32m     57\u001b[0m \u001b[0;34m\u001b[0m\u001b[0m\n\u001b[1;32m     58\u001b[0m         \u001b[0;32mif\u001b[0m \u001b[0mtech_params\u001b[0m\u001b[0;34m.\u001b[0m\u001b[0mfillna\u001b[0m\u001b[0;34m:\u001b[0m\u001b[0;34m\u001b[0m\u001b[0;34m\u001b[0m\u001b[0m\n\u001b[0;32m---> 59\u001b[0;31m             \u001b[0mdata_frame\u001b[0m \u001b[0;34m=\u001b[0m \u001b[0mdata_frame_non_nan\u001b[0m\u001b[0;34m.\u001b[0m\u001b[0mfillna\u001b[0m\u001b[0;34m(\u001b[0m\u001b[0mmethod\u001b[0m\u001b[0;34m=\u001b[0m\u001b[0;34m\"ffill\"\u001b[0m\u001b[0;34m)\u001b[0m\u001b[0;34m\u001b[0m\u001b[0;34m\u001b[0m\u001b[0m\n\u001b[0m\u001b[1;32m     60\u001b[0m         \u001b[0;32melse\u001b[0m\u001b[0;34m:\u001b[0m\u001b[0;34m\u001b[0m\u001b[0;34m\u001b[0m\u001b[0m\n\u001b[1;32m     61\u001b[0m             \u001b[0mdata_frame\u001b[0m \u001b[0;34m=\u001b[0m \u001b[0mdata_frame_non_nan\u001b[0m\u001b[0;34m\u001b[0m\u001b[0;34m\u001b[0m\u001b[0m\n",
            "\u001b[0;31mAttributeError\u001b[0m: 'NoneType' object has no attribute 'fillna'"
          ]
        }
      ]
    },
    {
      "cell_type": "code",
      "metadata": {
        "colab": {
          "base_uri": "https://localhost:8080/",
          "height": 368
        },
        "id": "41zSboOJl1hU",
        "outputId": "99f08e7c-fa81-414e-f3c5-d1beb848097d"
      },
      "source": [
        "contract_value_df = None\n",
        "\n",
        "# use the same data for generating signals\n",
        "backtest.calculate_trading_PnL(br, asset_df, signal_df, contract_value_df, run_in_parallel=False)\n",
        "port = backtest.portfolio_cum()\n",
        "port.columns = [indicator + ' = ' + str(tech_params.sma_period) + ' ' + str(backtest.portfolio_pnl_desc()[0])]\n",
        "signals = backtest.portfolio_signal()\n",
        "\n",
        "# print the last positions (we could also save as CSV etc.)\n",
        "print(signals.tail(1))"
      ],
      "execution_count": 59,
      "outputs": [
        {
          "output_type": "stream",
          "text": [
            "2020-12-16 22:21:55,940 - finmarketpy.backtest.backtestengine - INFO - Calculating trading P&L...\n"
          ],
          "name": "stdout"
        },
        {
          "output_type": "error",
          "ename": "AttributeError",
          "evalue": "ignored",
          "traceback": [
            "\u001b[0;31m---------------------------------------------------------------------------\u001b[0m",
            "\u001b[0;31mAttributeError\u001b[0m                            Traceback (most recent call last)",
            "\u001b[0;32m<ipython-input-59-9b9eb6bec413>\u001b[0m in \u001b[0;36m<module>\u001b[0;34m()\u001b[0m\n\u001b[1;32m      2\u001b[0m \u001b[0;34m\u001b[0m\u001b[0m\n\u001b[1;32m      3\u001b[0m \u001b[0;31m# use the same data for generating signals\u001b[0m\u001b[0;34m\u001b[0m\u001b[0;34m\u001b[0m\u001b[0;34m\u001b[0m\u001b[0m\n\u001b[0;32m----> 4\u001b[0;31m \u001b[0mbacktest\u001b[0m\u001b[0;34m.\u001b[0m\u001b[0mcalculate_trading_PnL\u001b[0m\u001b[0;34m(\u001b[0m\u001b[0mbr\u001b[0m\u001b[0;34m,\u001b[0m \u001b[0masset_df\u001b[0m\u001b[0;34m,\u001b[0m \u001b[0msignal_df\u001b[0m\u001b[0;34m,\u001b[0m \u001b[0mcontract_value_df\u001b[0m\u001b[0;34m,\u001b[0m \u001b[0mrun_in_parallel\u001b[0m\u001b[0;34m=\u001b[0m\u001b[0;32mFalse\u001b[0m\u001b[0;34m)\u001b[0m\u001b[0;34m\u001b[0m\u001b[0;34m\u001b[0m\u001b[0m\n\u001b[0m\u001b[1;32m      5\u001b[0m \u001b[0mport\u001b[0m \u001b[0;34m=\u001b[0m \u001b[0mbacktest\u001b[0m\u001b[0;34m.\u001b[0m\u001b[0mportfolio_cum\u001b[0m\u001b[0;34m(\u001b[0m\u001b[0;34m)\u001b[0m\u001b[0;34m\u001b[0m\u001b[0;34m\u001b[0m\u001b[0m\n\u001b[1;32m      6\u001b[0m \u001b[0mport\u001b[0m\u001b[0;34m.\u001b[0m\u001b[0mcolumns\u001b[0m \u001b[0;34m=\u001b[0m \u001b[0;34m[\u001b[0m\u001b[0mindicator\u001b[0m \u001b[0;34m+\u001b[0m \u001b[0;34m' = '\u001b[0m \u001b[0;34m+\u001b[0m \u001b[0mstr\u001b[0m\u001b[0;34m(\u001b[0m\u001b[0mtech_params\u001b[0m\u001b[0;34m.\u001b[0m\u001b[0msma_period\u001b[0m\u001b[0;34m)\u001b[0m \u001b[0;34m+\u001b[0m \u001b[0;34m' '\u001b[0m \u001b[0;34m+\u001b[0m \u001b[0mstr\u001b[0m\u001b[0;34m(\u001b[0m\u001b[0mbacktest\u001b[0m\u001b[0;34m.\u001b[0m\u001b[0mportfolio_pnl_desc\u001b[0m\u001b[0;34m(\u001b[0m\u001b[0;34m)\u001b[0m\u001b[0;34m[\u001b[0m\u001b[0;36m0\u001b[0m\u001b[0;34m]\u001b[0m\u001b[0;34m)\u001b[0m\u001b[0;34m]\u001b[0m\u001b[0;34m\u001b[0m\u001b[0;34m\u001b[0m\u001b[0m\n",
            "\u001b[0;32m/usr/local/lib/python3.6/dist-packages/finmarketpy/backtest/backtestengine.py\u001b[0m in \u001b[0;36mcalculate_trading_PnL\u001b[0;34m(self, br, asset_a_df, signal_df, contract_value_df, run_in_parallel)\u001b[0m\n\u001b[1;32m    137\u001b[0m         \u001b[0mlogger\u001b[0m\u001b[0;34m.\u001b[0m\u001b[0minfo\u001b[0m\u001b[0;34m(\u001b[0m\u001b[0;34m\"Calculating trading P&L...\"\u001b[0m\u001b[0;34m)\u001b[0m\u001b[0;34m\u001b[0m\u001b[0;34m\u001b[0m\u001b[0m\n\u001b[1;32m    138\u001b[0m \u001b[0;34m\u001b[0m\u001b[0m\n\u001b[0;32m--> 139\u001b[0;31m         \u001b[0msignal_df\u001b[0m \u001b[0;34m=\u001b[0m \u001b[0msignal_df\u001b[0m\u001b[0;34m.\u001b[0m\u001b[0mshift\u001b[0m\u001b[0;34m(\u001b[0m\u001b[0mbr\u001b[0m\u001b[0;34m.\u001b[0m\u001b[0msignal_delay\u001b[0m\u001b[0;34m)\u001b[0m\u001b[0;34m\u001b[0m\u001b[0;34m\u001b[0m\u001b[0m\n\u001b[0m\u001b[1;32m    140\u001b[0m         \u001b[0masset_df\u001b[0m\u001b[0;34m,\u001b[0m \u001b[0msignal_df\u001b[0m \u001b[0;34m=\u001b[0m \u001b[0mcalculations\u001b[0m\u001b[0;34m.\u001b[0m\u001b[0mjoin_left_fill_right\u001b[0m\u001b[0;34m(\u001b[0m\u001b[0masset_a_df\u001b[0m\u001b[0;34m,\u001b[0m \u001b[0msignal_df\u001b[0m\u001b[0;34m)\u001b[0m\u001b[0;34m\u001b[0m\u001b[0;34m\u001b[0m\u001b[0m\n\u001b[1;32m    141\u001b[0m \u001b[0;34m\u001b[0m\u001b[0m\n",
            "\u001b[0;31mAttributeError\u001b[0m: 'NoneType' object has no attribute 'shift'"
          ]
        }
      ]
    },
    {
      "cell_type": "markdown",
      "metadata": {
        "id": "svprxMIznrP6"
      },
      "source": [
        "# Run the backtest using the market data, signal etc."
      ]
    },
    {
      "cell_type": "code",
      "metadata": {
        "colab": {
          "base_uri": "https://localhost:8080/",
          "height": 351
        },
        "id": "i7rV1qhuns_R",
        "outputId": "f5b74563-d96a-410b-c25e-afa2be50bb8b"
      },
      "source": [
        "contract_value_df = None\n",
        "\n",
        "# use the same data for generating signals\n",
        "backtest.calculate_trading_PnL(br, asset_df, signal_df, contract_value_df, run_in_parallel=False)\n",
        "port = backtest.portfolio_cum()\n",
        "port.columns = [indicator + ' = ' + str(tech_params.sma_period) + ' ' + str(backtest.portfolio_pnl_desc()[0])]\n",
        "signals = backtest.portfolio_signal()\n",
        "\n",
        "# print the last positions (we could also save as CSV etc.)\n",
        "print(signals.tail(1))"
      ],
      "execution_count": 64,
      "outputs": [
        {
          "output_type": "error",
          "ename": "AttributeError",
          "evalue": "ignored",
          "traceback": [
            "\u001b[0;31m---------------------------------------------------------------------------\u001b[0m",
            "\u001b[0;31mAttributeError\u001b[0m                            Traceback (most recent call last)",
            "\u001b[0;32m<ipython-input-64-922ed5b060e4>\u001b[0m in \u001b[0;36m<module>\u001b[0;34m()\u001b[0m\n\u001b[1;32m      3\u001b[0m \u001b[0;31m# use the same data for generating signals\u001b[0m\u001b[0;34m\u001b[0m\u001b[0;34m\u001b[0m\u001b[0;34m\u001b[0m\u001b[0m\n\u001b[1;32m      4\u001b[0m \u001b[0;34m\u001b[0m\u001b[0m\n\u001b[0;32m----> 5\u001b[0;31m \u001b[0mport\u001b[0m \u001b[0;34m=\u001b[0m \u001b[0mbacktest\u001b[0m\u001b[0;34m.\u001b[0m\u001b[0mportfolio_cum\u001b[0m\u001b[0;34m(\u001b[0m\u001b[0;34m)\u001b[0m\u001b[0;34m\u001b[0m\u001b[0;34m\u001b[0m\u001b[0m\n\u001b[0m\u001b[1;32m      6\u001b[0m \u001b[0mport\u001b[0m\u001b[0;34m.\u001b[0m\u001b[0mcolumns\u001b[0m \u001b[0;34m=\u001b[0m \u001b[0;34m[\u001b[0m\u001b[0mindicator\u001b[0m \u001b[0;34m+\u001b[0m \u001b[0;34m' = '\u001b[0m \u001b[0;34m+\u001b[0m \u001b[0mstr\u001b[0m\u001b[0;34m(\u001b[0m\u001b[0mtech_params\u001b[0m\u001b[0;34m.\u001b[0m\u001b[0msma_period\u001b[0m\u001b[0;34m)\u001b[0m \u001b[0;34m+\u001b[0m \u001b[0;34m' '\u001b[0m \u001b[0;34m+\u001b[0m \u001b[0mstr\u001b[0m\u001b[0;34m(\u001b[0m\u001b[0mbacktest\u001b[0m\u001b[0;34m.\u001b[0m\u001b[0mportfolio_pnl_desc\u001b[0m\u001b[0;34m(\u001b[0m\u001b[0;34m)\u001b[0m\u001b[0;34m[\u001b[0m\u001b[0;36m0\u001b[0m\u001b[0;34m]\u001b[0m\u001b[0;34m)\u001b[0m\u001b[0;34m]\u001b[0m\u001b[0;34m\u001b[0m\u001b[0;34m\u001b[0m\u001b[0m\n\u001b[1;32m      7\u001b[0m \u001b[0msignals\u001b[0m \u001b[0;34m=\u001b[0m \u001b[0mbacktest\u001b[0m\u001b[0;34m.\u001b[0m\u001b[0mportfolio_signal\u001b[0m\u001b[0;34m(\u001b[0m\u001b[0;34m)\u001b[0m\u001b[0;34m\u001b[0m\u001b[0;34m\u001b[0m\u001b[0m\n",
            "\u001b[0;32m/usr/local/lib/python3.6/dist-packages/finmarketpy/backtest/backtestengine.py\u001b[0m in \u001b[0;36mportfolio_cum\u001b[0;34m(self)\u001b[0m\n\u001b[1;32m    690\u001b[0m         \"\"\"\n\u001b[1;32m    691\u001b[0m \u001b[0;34m\u001b[0m\u001b[0m\n\u001b[0;32m--> 692\u001b[0;31m         \u001b[0;32mreturn\u001b[0m \u001b[0mself\u001b[0m\u001b[0;34m.\u001b[0m\u001b[0m_portfolio_cum\u001b[0m\u001b[0;34m\u001b[0m\u001b[0;34m\u001b[0m\u001b[0m\n\u001b[0m\u001b[1;32m    693\u001b[0m \u001b[0;34m\u001b[0m\u001b[0m\n\u001b[1;32m    694\u001b[0m     \u001b[0;32mdef\u001b[0m \u001b[0mportfolio_pnl\u001b[0m\u001b[0;34m(\u001b[0m\u001b[0mself\u001b[0m\u001b[0;34m)\u001b[0m\u001b[0;34m:\u001b[0m\u001b[0;34m\u001b[0m\u001b[0;34m\u001b[0m\u001b[0m\n",
            "\u001b[0;31mAttributeError\u001b[0m: 'Backtest' object has no attribute '_portfolio_cum'"
          ]
        }
      ]
    },
    {
      "cell_type": "markdown",
      "metadata": {
        "id": "JYCK2Qtrp-AM"
      },
      "source": [
        "\n",
        "# Finally display the portfolio cumulative index."
      ]
    },
    {
      "cell_type": "code",
      "metadata": {
        "colab": {
          "base_uri": "https://localhost:8080/",
          "height": 198
        },
        "id": "BO1MibdBp_tl",
        "outputId": "5fcd1e98-326f-49b5-c9e9-637d0ed4126d"
      },
      "source": [
        "style = Style()\n",
        "style.title = \"FX trend strategy\"\n",
        "style.source = 'Quandl'\n",
        "style.scale_factor = 1\n",
        "style.file_output = 'fx-trend-example.png'\n",
        "\n",
        "Chart().plot(port, style=style)"
      ],
      "execution_count": 63,
      "outputs": [
        {
          "output_type": "error",
          "ename": "NameError",
          "evalue": "ignored",
          "traceback": [
            "\u001b[0;31m---------------------------------------------------------------------------\u001b[0m",
            "\u001b[0;31mNameError\u001b[0m                                 Traceback (most recent call last)",
            "\u001b[0;32m<ipython-input-63-556de25f218a>\u001b[0m in \u001b[0;36m<module>\u001b[0;34m()\u001b[0m\n\u001b[1;32m      5\u001b[0m \u001b[0mstyle\u001b[0m\u001b[0;34m.\u001b[0m\u001b[0mfile_output\u001b[0m \u001b[0;34m=\u001b[0m \u001b[0;34m'fx-trend-example.png'\u001b[0m\u001b[0;34m\u001b[0m\u001b[0;34m\u001b[0m\u001b[0m\n\u001b[1;32m      6\u001b[0m \u001b[0;34m\u001b[0m\u001b[0m\n\u001b[0;32m----> 7\u001b[0;31m \u001b[0mChart\u001b[0m\u001b[0;34m(\u001b[0m\u001b[0;34m)\u001b[0m\u001b[0;34m.\u001b[0m\u001b[0mplot\u001b[0m\u001b[0;34m(\u001b[0m\u001b[0mport\u001b[0m\u001b[0;34m,\u001b[0m \u001b[0mstyle\u001b[0m\u001b[0;34m=\u001b[0m\u001b[0mstyle\u001b[0m\u001b[0;34m)\u001b[0m\u001b[0;34m\u001b[0m\u001b[0;34m\u001b[0m\u001b[0m\n\u001b[0m",
            "\u001b[0;31mNameError\u001b[0m: name 'port' is not defined"
          ]
        }
      ]
    }
  ]
}